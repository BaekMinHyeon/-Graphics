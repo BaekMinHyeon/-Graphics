{
  "nbformat": 4,
  "nbformat_minor": 0,
  "metadata": {
    "colab": {
      "provenance": [],
      "collapsed_sections": []
    },
    "kernelspec": {
      "name": "python3",
      "display_name": "Python 3"
    },
    "language_info": {
      "name": "python"
    },
    "accelerator": "GPU",
    "gpuClass": "standard"
  },
  "cells": [
    {
      "cell_type": "markdown",
      "source": [
        "## **실습 진행 부분**\n",
        "\n",
        "## **실습을 진행하셔야 과제 진행을 할 수 있습니다.**\n"
      ],
      "metadata": {
        "id": "yF5-T_grH6ta"
      }
    },
    {
      "cell_type": "code",
      "source": [
        "import torch\n",
        "import numpy as np"
      ],
      "metadata": {
        "id": "krsABnSGd7bq"
      },
      "execution_count": 1,
      "outputs": []
    },
    {
      "cell_type": "code",
      "source": [
        "import torch\n",
        "import torchvision\n",
        "import torchvision.transforms as transforms"
      ],
      "metadata": {
        "id": "IEcmqZJUac5u"
      },
      "execution_count": 2,
      "outputs": []
    },
    {
      "cell_type": "code",
      "source": [
        "# CIFAR 데이터셋 다운 및 로드\n",
        "\n",
        "transform = transforms.Compose(\n",
        "    [transforms.ToTensor()])\n",
        "\n",
        "batch_size = 4\n",
        "\n",
        "cifar_trainset = torchvision.datasets.CIFAR10(root='./data', train=True,\n",
        "                                              download=True, transform=transform)\n",
        "\n",
        "cifar_trainloader = torch.utils.data.DataLoader(cifar_trainset, batch_size=batch_size,\n",
        "                                                shuffle=True, num_workers=2)\n",
        "\n",
        "cifar_testset = torchvision.datasets.CIFAR10(root='./data', train=False,\n",
        "                                              download=True, transform=transform)\n",
        "\n",
        "cifar_testloader = torch.utils.data.DataLoader(cifar_testset, batch_size=batch_size,\n",
        "                                                shuffle=False, num_workers=2)\n",
        "\n",
        "cifar_classes = ('plane', 'car', 'bird', 'cat',\n",
        "                 'deer', 'dog', 'frog', 'horse', 'ship', 'truck')"
      ],
      "metadata": {
        "colab": {
          "base_uri": "https://localhost:8080/"
        },
        "id": "iPIKg36xbvTJ",
        "outputId": "c7828516-0d86-42af-b3e7-136dc1ca75d6"
      },
      "execution_count": 3,
      "outputs": [
        {
          "output_type": "stream",
          "name": "stdout",
          "text": [
            "Files already downloaded and verified\n",
            "Files already downloaded and verified\n"
          ]
        }
      ]
    },
    {
      "cell_type": "code",
      "source": [
        "# MNIST 데이터셋 다운 및 로드\n",
        "\n",
        "transform = transforms.Compose(\n",
        "    [transforms.ToTensor()])\n",
        "\n",
        "batch_size = 4\n",
        "\n",
        "mnist_trainset = torchvision.datasets.MNIST(root='./data', train=True,\n",
        "                                              download=True, transform=transform)\n",
        "\n",
        "mnist_trainloader = torch.utils.data.DataLoader(mnist_trainset, batch_size=batch_size,\n",
        "                                                shuffle=True, num_workers=2)\n",
        "\n",
        "mnist_testset = torchvision.datasets.MNIST(root='./data', train=False,\n",
        "                                              download=True, transform=transform)\n",
        "\n",
        "mnist_testloader = torch.utils.data.DataLoader(mnist_testset, batch_size=batch_size,\n",
        "                                                shuffle=False, num_workers=2)\n",
        "\n",
        "mnist_classes = [0,1,2,3,4,5,6,7,8,9]"
      ],
      "metadata": {
        "id": "241SEVX9bpo6"
      },
      "execution_count": 4,
      "outputs": []
    },
    {
      "cell_type": "code",
      "source": [
        "import matplotlib.pyplot as plt\n",
        "import numpy as np\n",
        "\n",
        "# 이미지를 보여주기 위한 함수\n",
        "\n",
        "def imshow(img):\n",
        "  npimg = img.numpy()\n",
        "  plt.imshow(np.transpose(npimg, (1, 2, 0)))\n",
        "  plt.show()\n",
        "\n",
        "#학습용 이미지를 무작위로 가져오기\n",
        "dataiter = iter(cifar_trainloader)\n",
        "images, labels = dataiter.next()\n",
        "# 출력 : [batch_size, RGB(c), 이미지 크기(h, w)]\n",
        "print(images.size())\n",
        "\n",
        "#이미지 보여주기\n",
        "imshow(torchvision.utils.make_grid(images))\n",
        "\n",
        "#정답(label) 출력\n",
        "print(' '.join(f'{cifar_classes[labels[j]]:5s}' for j in range(batch_size)))\n",
        "print(images[0].numpy().shape)"
      ],
      "metadata": {
        "colab": {
          "base_uri": "https://localhost:8080/",
          "height": 194
        },
        "id": "A0K42fxVemXB",
        "outputId": "24270a62-d303-4336-8bc1-76f63077bbf0"
      },
      "execution_count": 5,
      "outputs": [
        {
          "output_type": "stream",
          "name": "stdout",
          "text": [
            "torch.Size([4, 3, 32, 32])\n"
          ]
        },
        {
          "output_type": "display_data",
          "data": {
            "text/plain": [
              "<Figure size 432x288 with 1 Axes>"
            ],
            "image/png": "[encoded data removed]"
          },
          "metadata": {
            "needs_background": "light"
          }
        },
        {
          "output_type": "stream",
          "name": "stdout",
          "text": [
            "ship  ship  dog   frog \n",
            "(3, 32, 32)\n"
          ]
        }
      ]
    },
    {
      "cell_type": "code",
      "source": [
        "import matplotlib.pyplot as plt\n",
        "import numpy as np\n",
        "\n",
        "# 이미지를 보여주기 위한 함수\n",
        "\n",
        "def imshow(img):\n",
        "  npimg = img.numpy()\n",
        "  plt.imshow(np.transpose(npimg, (1, 2, 0)))\n",
        "  plt.show()\n",
        "\n",
        "#학습용 이미지를 무작위로 가져오기\n",
        "dataiter = iter(mnist_trainloader)\n",
        "images, labels = dataiter.next()\n",
        "\n",
        "#이미지 보여주기\n",
        "imshow(torchvision.utils.make_grid(images))\n",
        "\n",
        "#정답(label) 출력\n",
        "print(' '.join(f'{str(mnist_classes[labels[j]]):5s}' for j in range(batch_size)))\n",
        "print(images[0].numpy().shape)"
      ],
      "metadata": {
        "colab": {
          "base_uri": "https://localhost:8080/",
          "height": 175
        },
        "id": "nfNB3RlxgcF3",
        "outputId": "dae2a565-ecd5-481c-8f2b-133b351f7e38"
      },
      "execution_count": 6,
      "outputs": [
        {
          "output_type": "display_data",
          "data": {
            "text/plain": [
              "<Figure size 432x288 with 1 Axes>"
            ],
            "image/png": "[encoded data removed]"
          },
          "metadata": {
            "needs_background": "light"
          }
        },
        {
          "output_type": "stream",
          "name": "stdout",
          "text": [
            "4     2     3     7    \n",
            "(1, 28, 28)\n"
          ]
        }
      ]
    },
    {
      "cell_type": "code",
      "source": [
        "import torch.nn as nn\n",
        "import torch.nn.functional as F\n",
        "\n",
        "class FullyConnectedNetwork(nn.Module):\n",
        "\n",
        "  def __init__(self):\n",
        "    super().__init__()\n",
        "    # 이미지가 28, 28이라서 입력 : 28*28\n",
        "    self.fc1 = nn.Linear(28*28, 512)\n",
        "    # 첫번째 층의 출력이 512여서 입력 : 512\n",
        "    self.fc2 = nn.Linear(512, 256)\n",
        "    # 두번째 층의 출력이 256여서 입력 : 256\n",
        "    self.fc3 = nn.Linear(256, 10)\n",
        "\n",
        "  def forward(self, x):\n",
        "    # 3차원의 이미지를 1차원으로 변경해야함\n",
        "    # (4, 1, 28, 28) => (4, 784)\n",
        "    x = x.flatten(1)\n",
        "    x = self.fc1(x)\n",
        "    x = self.fc2(x)\n",
        "    x = self.fc3(x)\n",
        "    x = F.softmax(x, dim=-1)\n",
        "    return x\n",
        "\n",
        "model = FullyConnectedNetwork()"
      ],
      "metadata": {
        "id": "6xNCCIIWgxm-"
      },
      "execution_count": 7,
      "outputs": []
    },
    {
      "cell_type": "code",
      "source": [
        "import torch.optim as optim\n",
        "\n",
        "# 손실함수 선언\n",
        "criterion = nn.CrossEntropyLoss()\n",
        "# 옵티마이저 선언\n",
        "optimizer = optim.SGD(model.parameters(), lr=0.001, momentum = 0.9)\n",
        "\n",
        "for epoch in range(2):  # 데이터셋을 수차례 반복합니다.\n",
        "  running_loss = 0.0\n",
        "  for i, data in enumerate(mnist_trainloader, 0):\n",
        "    # [imputs, labels]의 목록인 data로부터 입력을 받은 후\n",
        "    inputs, labels = data\n",
        "\n",
        "    # 변화도(Gradient) 매개변수를 0으로 만들고\n",
        "    optimizer.zero_grad()\n",
        "\n",
        "    # 순정파 + 역전파 + 최적화를 한 후\n",
        "    outputs = model(inputs)\n",
        "    loss = criterion(outputs, labels)\n",
        "    loss.backward()\n",
        "    optimizer.step()\n",
        "\n",
        "    # 통계를 출력합니다.\n",
        "    running_loss += loss.item()\n",
        "    if i % 2000 == 1999:\n",
        "      print(f'[{epoch + 1}, {i + 1:5d}] loss: {running_loss / 2000:.3f}')\n",
        "      running_loss = 0.0\n",
        "\n",
        "print('Finished Training')  "
      ],
      "metadata": {
        "colab": {
          "base_uri": "https://localhost:8080/"
        },
        "id": "ymj8KOqRhr_6",
        "outputId": "d213eb32-ad24-4305-d8cf-d8e08c1ce5b0"
      },
      "execution_count": 8,
      "outputs": [
        {
          "output_type": "stream",
          "name": "stdout",
          "text": [
            "[1,  2000] loss: 2.236\n",
            "[1,  4000] loss: 1.862\n",
            "[1,  6000] loss: 1.711\n",
            "[1,  8000] loss: 1.627\n",
            "[1, 10000] loss: 1.600\n",
            "[1, 12000] loss: 1.584\n",
            "[1, 14000] loss: 1.576\n",
            "[2,  2000] loss: 1.569\n",
            "[2,  4000] loss: 1.567\n",
            "[2,  6000] loss: 1.565\n",
            "[2,  8000] loss: 1.559\n",
            "[2, 10000] loss: 1.561\n",
            "[2, 12000] loss: 1.556\n",
            "[2, 14000] loss: 1.556\n",
            "Finished Training\n"
          ]
        }
      ]
    },
    {
      "cell_type": "code",
      "source": [
        "correct = 0\n",
        "total = 0\n",
        "# 학습 중이 아니므로, 출력에 대한 변화도 계산 필요X\n",
        "with torch.no_grad():\n",
        "  for data in mnist_testloader:\n",
        "    images, labels = data\n",
        "    # 신경망에 이미지를 통과시켜 출력을 계산합니다\n",
        "    outputs = model(images)\n",
        "    # 가장 높은 값(energy)를 갖는 분류(class)를 정답으로 선택하겠습니다\n",
        "    _, predicted = torch.max(outputs.data, 1)\n",
        "    total += labels.size(0)\n",
        "    correct += (predicted == labels).sum().item()\n",
        "\n",
        "print(f'Accuracy of the network on the 10000 test images: {100 * correct // total} %')"
      ],
      "metadata": {
        "colab": {
          "base_uri": "https://localhost:8080/"
        },
        "id": "dg2Oj2rfjQNN",
        "outputId": "6ff329cd-069d-4cf4-936b-982f6295a4d1"
      },
      "execution_count": 9,
      "outputs": [
        {
          "output_type": "stream",
          "name": "stdout",
          "text": [
            "Accuracy of the network on the 10000 test images: 91 %\n"
          ]
        }
      ]
    },
    {
      "cell_type": "code",
      "source": [
        "# 각 분류(class)에 대한 예측값 계산을 위해 준비\n",
        "correct_pred = {classname: 0 for classname in mnist_classes}\n",
        "total_pred = {classname: 0 for classname in mnist_classes}\n",
        "\n",
        "# 변화도는 여전히 필요X\n",
        "with torch.no_grad():\n",
        "  for data in mnist_testloader:\n",
        "    images, labels = data\n",
        "    outputs = model(images)\n",
        "    _, predictions = torch.max(outputs, 1)\n",
        "    # 각 분류별로 올바른 예측 수를 모름\n",
        "    for label, prediction in zip(labels, predictions):\n",
        "      if label == prediction:\n",
        "        correct_pred[mnist_classes[label]] += 1\n",
        "      total_pred[mnist_classes[label]] += 1\n",
        "\n",
        "# 각 분류별 정확도(accuracy)를 출력\n",
        "for classname, correct_count in correct_pred.items():\n",
        "  accuracy = 100 * float(correct_count) / total_pred[classname]\n",
        "  print(f'Accuracy for class: {str(classname):5s} is {accuracy:.1f} %')  "
      ],
      "metadata": {
        "colab": {
          "base_uri": "https://localhost:8080/"
        },
        "id": "dGq9-Ylmlz_T",
        "outputId": "a0fd4ac4-a4d1-4a46-c510-3c3025c03b9c"
      },
      "execution_count": 10,
      "outputs": [
        {
          "output_type": "stream",
          "name": "stdout",
          "text": [
            "Accuracy for class: 0     is 98.3 %\n",
            "Accuracy for class: 1     is 97.3 %\n",
            "Accuracy for class: 2     is 90.0 %\n",
            "Accuracy for class: 3     is 88.8 %\n",
            "Accuracy for class: 4     is 94.6 %\n",
            "Accuracy for class: 5     is 86.7 %\n",
            "Accuracy for class: 6     is 94.8 %\n",
            "Accuracy for class: 7     is 91.7 %\n",
            "Accuracy for class: 8     is 87.6 %\n",
            "Accuracy for class: 9     is 85.7 %\n"
          ]
        }
      ]
    },
    {
      "cell_type": "code",
      "source": [
        "import torch.optim as optim\n",
        "\n",
        "gpu_model = FullyConnectedNetwork()\n",
        "# 손실함수 선언\n",
        "criterion = nn.CrossEntropyLoss()\n",
        "# 옵티마이저 선언\n",
        "optimizer = optim.SGD(gpu_model.parameters(), lr=0.001, momentum = 0.9)\n",
        "\n",
        "for epoch in range(2):  # 데이터셋을 수차례 반복합니다.\n",
        "  running_loss = 0.0\n",
        "  for i, data in enumerate(mnist_trainloader, 0):\n",
        "    # [imputs, labels]의 목록인 data로부터 입력을 받은 후\n",
        "    inputs, labels = data[0].to('cuda'), data[1].to('cuda')\n",
        "\n",
        "    # 변화도(Gradient) 매개변수를 0으로 만들고\n",
        "    optimizer.zero_grad()\n",
        "\n",
        "    # 순정파 + 역전파 + 최적화를 한 후\n",
        "    gpu_model = gpu_model.to('cuda')\n",
        "    outputs = gpu_model(inputs)\n",
        "    loss = criterion(outputs, labels)\n",
        "    loss.backward()\n",
        "    optimizer.step()\n",
        "\n",
        "    # 통계를 출력합니다.\n",
        "    running_loss += loss.item()\n",
        "    if i % 2000 == 1999:\n",
        "      print(f'[{epoch + 1}, {i + 1:5d}] loss: {running_loss / 2000:.3f}')\n",
        "      running_loss = 0.0\n",
        "\n",
        "print('Finished Training')  "
      ],
      "metadata": {
        "colab": {
          "base_uri": "https://localhost:8080/"
        },
        "id": "miP1gjh5nXoH",
        "outputId": "31042af7-05c1-44f2-ec7e-5dd38c37b5bb"
      },
      "execution_count": 11,
      "outputs": [
        {
          "output_type": "stream",
          "name": "stdout",
          "text": [
            "[1,  2000] loss: 2.228\n",
            "[1,  4000] loss: 1.840\n",
            "[1,  6000] loss: 1.695\n",
            "[1,  8000] loss: 1.660\n",
            "[1, 10000] loss: 1.645\n",
            "[1, 12000] loss: 1.641\n",
            "[1, 14000] loss: 1.633\n",
            "[2,  2000] loss: 1.591\n",
            "[2,  4000] loss: 1.577\n",
            "[2,  6000] loss: 1.571\n",
            "[2,  8000] loss: 1.569\n",
            "[2, 10000] loss: 1.563\n",
            "[2, 12000] loss: 1.564\n",
            "[2, 14000] loss: 1.563\n",
            "Finished Training\n"
          ]
        }
      ]
    },
    {
      "cell_type": "code",
      "source": [
        "correct = 0\n",
        "total = 0\n",
        "\n",
        "for data in mnist_testloader:\n",
        "  images, labels = data[0].to('cuda'), data[1].to('cuda')\n",
        "  # 신경망에 이미지를 통과시켜 출력을 계산합니다\n",
        "  gpu_model = gpu_model.to('cuda')\n",
        "  outputs = gpu_model(images)\n",
        "  # 가장 높은 값(energy)를 갖는 분류(class)를 정답으로 선택하겠습니다\n",
        "  _, predicted = torch.max(outputs.data, 1)\n",
        "  total += labels.size(0)\n",
        "  correct += (predicted == labels).sum().item()\n",
        "\n",
        "print(f'Accuracy of the network on the 10000 test images: {100 * correct // total} %')"
      ],
      "metadata": {
        "colab": {
          "base_uri": "https://localhost:8080/"
        },
        "id": "B31tUK7ZjORz",
        "outputId": "84a17e96-7ce9-4155-8547-cef26f483a31"
      },
      "execution_count": 12,
      "outputs": [
        {
          "output_type": "stream",
          "name": "stdout",
          "text": [
            "Accuracy of the network on the 10000 test images: 91 %\n"
          ]
        }
      ]
    },
    {
      "cell_type": "code",
      "source": [
        "# 각 분류(class)에 대한 예측값 계산을 위해 준비\n",
        "correct_pred = {classname: 0 for classname in mnist_classes}\n",
        "total_pred = {classname: 0 for classname in mnist_classes}\n",
        "\n",
        "for data in mnist_testloader:\n",
        "  images, labels = data[0].to('cuda'), data[1].to('cuda')\n",
        "  gpu_model = gpu_model.to('cuda')\n",
        "  outputs = gpu_model(images)\n",
        "  _, predictions = torch.max(outputs, 1)\n",
        "  # 각 분류별로 올바른 예측 수를 모름\n",
        "  for label, prediction in zip(labels, predictions):\n",
        "    if label == prediction:\n",
        "      correct_pred[mnist_classes[label]] += 1\n",
        "    total_pred[mnist_classes[label]] += 1\n",
        "\n",
        "# 각 분류별 정확도(accuracy)를 출력\n",
        "for classname, correct_count in correct_pred.items():\n",
        "  accuracy = 100 * float(correct_count) / total_pred[classname]\n",
        "  print(f'Accuracy for class: {str(classname):5s} is {accuracy:.1f} %')"
      ],
      "metadata": {
        "colab": {
          "base_uri": "https://localhost:8080/"
        },
        "id": "pg632n-RpVQ2",
        "outputId": "0568ba56-2b20-4a71-85a4-0e3c234ea3ab"
      },
      "execution_count": 13,
      "outputs": [
        {
          "output_type": "stream",
          "name": "stdout",
          "text": [
            "Accuracy for class: 0     is 97.1 %\n",
            "Accuracy for class: 1     is 97.1 %\n",
            "Accuracy for class: 2     is 90.2 %\n",
            "Accuracy for class: 3     is 89.4 %\n",
            "Accuracy for class: 4     is 94.7 %\n",
            "Accuracy for class: 5     is 82.6 %\n",
            "Accuracy for class: 6     is 89.8 %\n",
            "Accuracy for class: 7     is 90.8 %\n",
            "Accuracy for class: 8     is 92.2 %\n",
            "Accuracy for class: 9     is 88.5 %\n"
          ]
        }
      ]
    },
    {
      "cell_type": "markdown",
      "source": [
        "## **과제 수행 부분** "
      ],
      "metadata": {
        "id": "4wCXATDq63_q"
      }
    },
    {
      "cell_type": "code",
      "source": [
        "import torch.nn as nn\n",
        "import torch.nn.functional as F\n",
        "\n",
        "class ConvolutionalNetwork(nn.Module):\n",
        "\n",
        "  def __init__(self):\n",
        "    super().__init__()\n",
        "    # TODO Convolution Layer 설정\n",
        "    # 3*32*32 이미지\n",
        "    self.conv1 = nn.Conv2d(3, 64, kernel_size=3, padding=3, stride=1)\n",
        "    # 64*36*36 이미지\n",
        "    self.pool = nn.MaxPool2d(2,2)\n",
        "    # 64*18*18 이미지\n",
        "    self.conv2 = nn.Conv2d(64, 20, kernel_size=5, padding=1, stride=1)\n",
        "    # 20*16*16\n",
        "    # pool : 20*8*8\n",
        "    self.fc1 = nn.Linear(20 * 8 * 8, 32)\n",
        "    self.fc2 = nn.Linear(32, 24)\n",
        "    self.fc3 = nn.Linear(24, 10)\n",
        "\n",
        "  def forward(self, x):\n",
        "    x = self.pool(F.relu(self.conv1(x)))\n",
        "    x = self.pool(F.relu(self.conv2(x)))\n",
        "    x = x.flatten(1)\n",
        "    x = F.relu(self.fc1(x))\n",
        "    x = F.relu(self.fc2(x))\n",
        "    x = self.fc3(x)\n",
        "    return x\n",
        "\n",
        "homework_model = ConvolutionalNetwork()"
      ],
      "metadata": {
        "id": "StkJoGvpzp7H"
      },
      "execution_count": 14,
      "outputs": []
    },
    {
      "cell_type": "code",
      "source": [
        "gpu_model = homework_model\n",
        "# 손실함수 선언\n",
        "criterion = nn.CrossEntropyLoss()\n",
        "# 옵티마이저 선언\n",
        "optimizer = optim.SGD(gpu_model.parameters(), lr=0.001, momentum=0.9)\n",
        "\n",
        "for epoch in range(2):   # 데이터셋을 수차례 반복합니다.\n",
        "\n",
        "    running_loss = 0.0\n",
        "    for i, data in enumerate(cifar_trainloader, 0):\n",
        "        # [inputs, labels]의 목록인 data로부터 입력을 받은 후;\n",
        "        inputs, labels = data[0].to('cuda'), data[1].to('cuda')\n",
        "\n",
        "        # 변화도(Gradient) 매개변수를 0으로 만들고\n",
        "        optimizer.zero_grad()\n",
        "\n",
        "        # 순전파 + 역전파 + 최적화를 한 후\n",
        "        gpu_model = gpu_model.to('cuda')\n",
        "        outputs = gpu_model(inputs)\n",
        "        loss = criterion(outputs, labels)\n",
        "        loss.backward()\n",
        "        optimizer.step()\n",
        "\n",
        "        # 통계를 출력합니다.\n",
        "        running_loss += loss.item()\n",
        "        if i % 2000 == 1999:    # print every 2000 mini-batches\n",
        "            print(f'[{epoch + 1}, {i + 1:5d}] loss: {running_loss / 2000:.3f}')\n",
        "            running_loss = 0.0\n",
        "\n",
        "print('Finished Training')"
      ],
      "metadata": {
        "id": "EA8T41Wb3fqP",
        "colab": {
          "base_uri": "https://localhost:8080/"
        },
        "outputId": "8c703b66-f395-48c3-e83e-a2dc7c578061"
      },
      "execution_count": 15,
      "outputs": [
        {
          "output_type": "stream",
          "name": "stdout",
          "text": [
            "[1,  2000] loss: 2.232\n",
            "[1,  4000] loss: 2.002\n",
            "[1,  6000] loss: 1.788\n",
            "[1,  8000] loss: 1.662\n",
            "[1, 10000] loss: 1.568\n",
            "[1, 12000] loss: 1.491\n",
            "[2,  2000] loss: 1.390\n",
            "[2,  4000] loss: 1.364\n",
            "[2,  6000] loss: 1.315\n",
            "[2,  8000] loss: 1.285\n",
            "[2, 10000] loss: 1.245\n",
            "[2, 12000] loss: 1.203\n",
            "Finished Training\n"
          ]
        }
      ]
    },
    {
      "cell_type": "code",
      "source": [
        "correct = 0\n",
        "total = 0\n",
        "\n",
        "\n",
        "for data in cifar_testloader:\n",
        "    images, labels = data[0].to('cuda'), data[1].to('cuda')\n",
        "        # 신경망에 이미지를 통과시켜 출력을 계산합니다\n",
        "    gpu_model = gpu_model.to('cuda')\n",
        "    outputs = gpu_model(images)\n",
        "        # 가장 높은 값(energy)를 갖는 분류(class)를 정답으로 선택하겠습니다\n",
        "    _, predicted = torch.max(outputs.data, 1)\n",
        "    total += labels.size(0)\n",
        "    correct += (predicted == labels).sum().item()\n",
        "\n",
        "print(f'Accuracy of the network on the 10000 test images: {100 * correct // total} %')"
      ],
      "metadata": {
        "id": "FjX3cWotEeIe",
        "colab": {
          "base_uri": "https://localhost:8080/"
        },
        "outputId": "a456a0e5-1fd0-4d4b-b440-d9f9671eaaf3"
      },
      "execution_count": 16,
      "outputs": [
        {
          "output_type": "stream",
          "name": "stdout",
          "text": [
            "Accuracy of the network on the 10000 test images: 57 %\n"
          ]
        }
      ]
    },
    {
      "cell_type": "code",
      "source": [
        "# 각 분류(class)에 대한 예측값 계산을 위해 준비\n",
        "correct_pred = {classname: 0 for classname in cifar_classes}\n",
        "total_pred = {classname: 0 for classname in cifar_classes}\n",
        "\n",
        "for data in cifar_testloader:\n",
        "    images, labels = data[0].to('cuda'), data[1].to('cuda')\n",
        "\n",
        "    gpu_model = gpu_model.to('cuda')\n",
        "    outputs = gpu_model(images)\n",
        "    _, predictions = torch.max(outputs, 1)\n",
        "        # 각 분류별로 올바른 예측 수를 모읍니다\n",
        "    for label, prediction in zip(labels, predictions):\n",
        "        if label == prediction:\n",
        "            correct_pred[cifar_classes[label]] += 1\n",
        "        total_pred[cifar_classes[label]] += 1\n",
        "\n",
        "\n",
        "# 각 분류별 정확도(accuracy)를 출력합니다\n",
        "for classname, correct_count in correct_pred.items():\n",
        "    accuracy = 100 * float(correct_count) / total_pred[classname]\n",
        "    print(f'Accuracy for class: {classname:5s} is {accuracy:.1f} %')"
      ],
      "metadata": {
        "id": "UzLjpMa_FPYi",
        "colab": {
          "base_uri": "https://localhost:8080/"
        },
        "outputId": "03404800-0597-4b4f-d9fd-889bfa8d83fd"
      },
      "execution_count": 17,
      "outputs": [
        {
          "output_type": "stream",
          "name": "stdout",
          "text": [
            "Accuracy for class: plane is 58.4 %\n",
            "Accuracy for class: car   is 70.3 %\n",
            "Accuracy for class: bird  is 51.7 %\n",
            "Accuracy for class: cat   is 43.7 %\n",
            "Accuracy for class: deer  is 40.9 %\n",
            "Accuracy for class: dog   is 58.9 %\n",
            "Accuracy for class: frog  is 53.8 %\n",
            "Accuracy for class: horse is 57.9 %\n",
            "Accuracy for class: ship  is 86.9 %\n",
            "Accuracy for class: truck is 52.8 %\n"
          ]
        }
      ]
    }
  ]
}